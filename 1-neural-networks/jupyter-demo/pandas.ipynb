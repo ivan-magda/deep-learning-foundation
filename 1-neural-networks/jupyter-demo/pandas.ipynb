{
 "cells": [
  {
   "cell_type": "code",
   "execution_count": 1,
   "metadata": {
    "collapsed": true
   },
   "outputs": [],
   "source": [
    "import pandas as pd\n",
    "import numpy as np\n",
    "import matplotlib.pyplot as plt"
   ]
  },
  {
   "cell_type": "code",
   "execution_count": 3,
   "metadata": {
    "collapsed": false
   },
   "outputs": [
    {
     "data": {
      "text/plain": [
       "0    1.0\n",
       "1    2.0\n",
       "2    3.0\n",
       "3    5.0\n",
       "4    NaN\n",
       "5    7.0\n",
       "6    8.0\n",
       "dtype: float64"
      ]
     },
     "execution_count": 3,
     "metadata": {},
     "output_type": "execute_result"
    }
   ],
   "source": [
    "s = pd.Series([1, 2, 3, 5, np.nan, 7, 8])\n",
    "s"
   ]
  },
  {
   "cell_type": "code",
   "execution_count": 6,
   "metadata": {
    "collapsed": false
   },
   "outputs": [
    {
     "data": {
      "text/plain": [
       "DatetimeIndex(['2017-02-08', '2017-02-09', '2017-02-10', '2017-02-11',\n",
       "               '2017-02-12', '2017-02-13'],\n",
       "              dtype='datetime64[ns]', freq='D')"
      ]
     },
     "execution_count": 6,
     "metadata": {},
     "output_type": "execute_result"
    }
   ],
   "source": [
    "dates = pd.date_range('20170208', periods=6)\n",
    "dates"
   ]
  },
  {
   "cell_type": "code",
   "execution_count": 8,
   "metadata": {
    "collapsed": false
   },
   "outputs": [
    {
     "data": {
      "text/html": [
       "<div>\n",
       "<table border=\"1\" class=\"dataframe\">\n",
       "  <thead>\n",
       "    <tr style=\"text-align: right;\">\n",
       "      <th></th>\n",
       "      <th>A</th>\n",
       "      <th>B</th>\n",
       "      <th>C</th>\n",
       "      <th>D</th>\n",
       "    </tr>\n",
       "  </thead>\n",
       "  <tbody>\n",
       "    <tr>\n",
       "      <th>2017-02-08</th>\n",
       "      <td>0.003427</td>\n",
       "      <td>0.601264</td>\n",
       "      <td>-1.174628</td>\n",
       "      <td>0.027331</td>\n",
       "    </tr>\n",
       "    <tr>\n",
       "      <th>2017-02-09</th>\n",
       "      <td>-0.452986</td>\n",
       "      <td>-0.041764</td>\n",
       "      <td>0.011060</td>\n",
       "      <td>-1.128119</td>\n",
       "    </tr>\n",
       "    <tr>\n",
       "      <th>2017-02-10</th>\n",
       "      <td>-0.836700</td>\n",
       "      <td>-0.983672</td>\n",
       "      <td>0.930403</td>\n",
       "      <td>-0.756533</td>\n",
       "    </tr>\n",
       "    <tr>\n",
       "      <th>2017-02-11</th>\n",
       "      <td>-2.536738</td>\n",
       "      <td>-0.311604</td>\n",
       "      <td>-0.324169</td>\n",
       "      <td>1.498206</td>\n",
       "    </tr>\n",
       "    <tr>\n",
       "      <th>2017-02-12</th>\n",
       "      <td>-0.511426</td>\n",
       "      <td>0.147461</td>\n",
       "      <td>1.044795</td>\n",
       "      <td>-1.225679</td>\n",
       "    </tr>\n",
       "    <tr>\n",
       "      <th>2017-02-13</th>\n",
       "      <td>-0.714608</td>\n",
       "      <td>1.425589</td>\n",
       "      <td>-1.474112</td>\n",
       "      <td>0.619248</td>\n",
       "    </tr>\n",
       "  </tbody>\n",
       "</table>\n",
       "</div>"
      ],
      "text/plain": [
       "                   A         B         C         D\n",
       "2017-02-08  0.003427  0.601264 -1.174628  0.027331\n",
       "2017-02-09 -0.452986 -0.041764  0.011060 -1.128119\n",
       "2017-02-10 -0.836700 -0.983672  0.930403 -0.756533\n",
       "2017-02-11 -2.536738 -0.311604 -0.324169  1.498206\n",
       "2017-02-12 -0.511426  0.147461  1.044795 -1.225679\n",
       "2017-02-13 -0.714608  1.425589 -1.474112  0.619248"
      ]
     },
     "execution_count": 8,
     "metadata": {},
     "output_type": "execute_result"
    }
   ],
   "source": [
    "df = pd.DataFrame(np.random.randn(6,4), index=dates, columns=list('ABCD'))\n",
    "df"
   ]
  },
  {
   "cell_type": "code",
   "execution_count": 16,
   "metadata": {
    "collapsed": false
   },
   "outputs": [
    {
     "data": {
      "text/plain": [
       "array([[-2.25631535,  0.89710424,  0.43363202,  1.08092595],\n",
       "       [-0.33442903,  0.41171262,  0.96897437,  0.12657697],\n",
       "       [-1.43670629, -0.20894802,  0.9538217 ,  0.54157571],\n",
       "       ..., \n",
       "       [-0.17485904,  0.07357328,  0.89948676,  1.85015165],\n",
       "       [ 2.61934134,  0.52730816,  0.2216906 , -0.09753428],\n",
       "       [ 1.6223845 , -1.00981407, -1.46463941, -3.09715343]])"
      ]
     },
     "execution_count": 16,
     "metadata": {},
     "output_type": "execute_result"
    }
   ],
   "source": [
    "np.random.randn(1000, 4)"
   ]
  },
  {
   "cell_type": "code",
   "execution_count": null,
   "metadata": {
    "collapsed": true
   },
   "outputs": [],
   "source": []
  }
 ],
 "metadata": {
  "kernelspec": {
   "display_name": "Python 3",
   "language": "python",
   "name": "python3"
  },
  "language_info": {
   "codemirror_mode": {
    "name": "ipython",
    "version": 3
   },
   "file_extension": ".py",
   "mimetype": "text/x-python",
   "name": "python",
   "nbconvert_exporter": "python",
   "pygments_lexer": "ipython3",
   "version": "3.6.0"
  }
 },
 "nbformat": 4,
 "nbformat_minor": 2
}
