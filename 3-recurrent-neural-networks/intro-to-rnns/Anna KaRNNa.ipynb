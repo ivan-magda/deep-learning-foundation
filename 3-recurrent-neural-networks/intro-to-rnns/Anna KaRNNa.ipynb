{
 "cells": [
  {
   "cell_type": "markdown",
   "metadata": {},
   "source": [
    "# Anna KaRNNa\n",
    "\n",
    "In this notebook, I'll build a character-wise RNN trained on Anna Karenina, one of my all-time favorite books. It'll be able to generate new text based on the text from the book.\n",
    "\n",
    "This network is based off of Andrej Karpathy's [post on RNNs](http://karpathy.github.io/2015/05/21/rnn-effectiveness/) and [implementation in Torch](https://github.com/karpathy/char-rnn). Also, some information [here at r2rt](http://r2rt.com/recurrent-neural-networks-in-tensorflow-ii.html) and from [Sherjil Ozair](https://github.com/sherjilozair/char-rnn-tensorflow) on GitHub. Below is the general architecture of the character-wise RNN.\n",
    "\n",
    "<img src=\"assets/charseq.jpeg\" width=\"500\">"
   ]
  },
  {
   "cell_type": "code",
   "execution_count": 1,
   "metadata": {
    "collapsed": false,
    "deletable": true,
    "editable": true
   },
   "outputs": [],
   "source": [
    "import time\n",
    "from collections import namedtuple\n",
    "\n",
    "import numpy as np\n",
    "import tensorflow as tf"
   ]
  },
  {
   "cell_type": "markdown",
   "metadata": {},
   "source": [
    "First we'll load the text file and convert it into integers for our network to use. Here I'm creating a couple dictionaries to convert the characters to and from integers. Encoding the characters as integers makes it easier to use as input in the network."
   ]
  },
  {
   "cell_type": "code",
   "execution_count": 2,
   "metadata": {
    "collapsed": false
   },
   "outputs": [],
   "source": [
    "with open('anna.txt', 'r') as f:\n",
    "    text=f.read()\n",
    "vocab = set(text)\n",
    "vocab_to_int = {c: i for i, c in enumerate(vocab)}\n",
    "int_to_vocab = dict(enumerate(vocab))\n",
    "chars = np.array([vocab_to_int[c] for c in text], dtype=np.int32)"
   ]
  },
  {
   "cell_type": "markdown",
   "metadata": {},
   "source": [
    "Let's check out the first 100 characters, make sure everything is peachy. According to the [American Book Review](http://americanbookreview.org/100bestlines.asp), this is the 6th best first line of a book ever."
   ]
  },
  {
   "cell_type": "code",
   "execution_count": 3,
   "metadata": {
    "collapsed": false
   },
   "outputs": [
    {
     "data": {
      "text/plain": [
       "'Chapter 1\\n\\n\\nHappy families are all alike; every unhappy family is unhappy in its own\\nway.\\n\\nEverythin'"
      ]
     },
     "execution_count": 3,
     "metadata": {},
     "output_type": "execute_result"
    }
   ],
   "source": [
    "text[:100]"
   ]
  },
  {
   "cell_type": "markdown",
   "metadata": {},
   "source": [
    "And we can see the characters encoded as integers."
   ]
  },
  {
   "cell_type": "code",
   "execution_count": 4,
   "metadata": {
    "collapsed": false
   },
   "outputs": [
    {
     "data": {
      "text/plain": [
       "array([54, 75, 14, 63, 21, 62, 52, 29, 53, 47, 47, 47,  4, 14, 63, 63, 34,\n",
       "       29, 32, 14, 58, 73, 45, 73, 62, 30, 29, 14, 52, 62, 29, 14, 45, 45,\n",
       "       29, 14, 45, 73, 20, 62, 55, 29, 62, 28, 62, 52, 34, 29, 36, 44, 75,\n",
       "       14, 63, 63, 34, 29, 32, 14, 58, 73, 45, 34, 29, 73, 30, 29, 36, 44,\n",
       "       75, 14, 63, 63, 34, 29, 73, 44, 29, 73, 21, 30, 29,  9, 19, 44, 47,\n",
       "       19, 14, 34, 15, 47, 47, 11, 28, 62, 52, 34, 21, 75, 73, 44], dtype=int32)"
      ]
     },
     "execution_count": 4,
     "metadata": {},
     "output_type": "execute_result"
    }
   ],
   "source": [
    "chars[:100]"
   ]
  },
  {
   "cell_type": "markdown",
   "metadata": {},
   "source": [
    "## Making training and validation batches\n",
    "\n",
    "Now I need to split up the data into batches, and into training and validation sets. I should be making a test set here, but I'm not going to worry about that. My test will be if the network can generate new text.\n",
    "\n",
    "Here I'll make both input and target arrays. The targets are the same as the inputs, except shifted one character over. I'll also drop the last bit of data so that I'll only have completely full batches.\n",
    "\n",
    "The idea here is to make a 2D matrix where the number of rows is equal to the batch size. Each row will be one long concatenated string from the character data. We'll split this data into a training set and validation set using the `split_frac` keyword. This will keep 90% of the batches in the training set, the other 10% in the validation set."
   ]
  },
  {
   "cell_type": "code",
   "execution_count": 5,
   "metadata": {
    "collapsed": true
   },
   "outputs": [],
   "source": [
    "def split_data(chars, batch_size, num_steps, split_frac=0.9):\n",
    "    \"\"\" \n",
    "    Split character data into training and validation sets, inputs and targets for each set.\n",
    "    \n",
    "    Arguments\n",
    "    ---------\n",
    "    chars: character array\n",
    "    batch_size: Size of examples in each of batch\n",
    "    num_steps: Number of sequence steps to keep in the input and pass to the network\n",
    "    split_frac: Fraction of batches to keep in the training set\n",
    "    \n",
    "    \n",
    "    Returns train_x, train_y, val_x, val_y\n",
    "    \"\"\"\n",
    "    \n",
    "    slice_size = batch_size * num_steps\n",
    "    n_batches = int(len(chars) / slice_size)\n",
    "    \n",
    "    # Drop the last few characters to make only full batches\n",
    "    x = chars[: n_batches*slice_size]\n",
    "    y = chars[1: n_batches*slice_size + 1]\n",
    "    \n",
    "    # Split the data into batch_size slices, then stack them into a 2D matrix \n",
    "    x = np.stack(np.split(x, batch_size))\n",
    "    y = np.stack(np.split(y, batch_size))\n",
    "    \n",
    "    # Now x and y are arrays with dimensions batch_size x n_batches*num_steps\n",
    "    \n",
    "    # Split into training and validation sets, keep the virst split_frac batches for training\n",
    "    split_idx = int(n_batches*split_frac)\n",
    "    train_x, train_y= x[:, :split_idx*num_steps], y[:, :split_idx*num_steps]\n",
    "    val_x, val_y = x[:, split_idx*num_steps:], y[:, split_idx*num_steps:]\n",
    "    \n",
    "    return train_x, train_y, val_x, val_y"
   ]
  },
  {
   "cell_type": "markdown",
   "metadata": {},
   "source": [
    "Now I'll make my data sets and we can check out what's going on here. Here I'm going to use a batch size of 10 and 50 sequence steps."
   ]
  },
  {
   "cell_type": "code",
   "execution_count": 6,
   "metadata": {
    "collapsed": false
   },
   "outputs": [],
   "source": [
    "train_x, train_y, val_x, val_y = split_data(chars, 10, 50)"
   ]
  },
  {
   "cell_type": "code",
   "execution_count": 7,
   "metadata": {
    "collapsed": false
   },
   "outputs": [
    {
     "data": {
      "text/plain": [
       "(10, 178650)"
      ]
     },
     "execution_count": 7,
     "metadata": {},
     "output_type": "execute_result"
    }
   ],
   "source": [
    "train_x.shape"
   ]
  },
  {
   "cell_type": "markdown",
   "metadata": {},
   "source": [
    "Looking at the size of this array, we see that we have rows equal to the batch size. When we want to get a batch out of here, we can grab a subset of this array that contains all the rows but has a width equal to the number of steps in the sequence. The first batch looks like this:"
   ]
  },
  {
   "cell_type": "code",
   "execution_count": 8,
   "metadata": {
    "collapsed": false
   },
   "outputs": [
    {
     "data": {
      "text/plain": [
       "array([[54, 75, 14, 63, 21, 62, 52, 29, 53, 47, 47, 47,  4, 14, 63, 63, 34,\n",
       "        29, 32, 14, 58, 73, 45, 73, 62, 30, 29, 14, 52, 62, 29, 14, 45, 45,\n",
       "        29, 14, 45, 73, 20, 62, 55, 29, 62, 28, 62, 52, 34, 29, 36, 44],\n",
       "       [29, 14, 58, 29, 44,  9, 21, 29, 64,  9, 73, 44, 64, 29, 21,  9, 29,\n",
       "        30, 21, 14, 34, 56, 50, 29, 14, 44, 30, 19, 62, 52, 62, 33, 29, 12,\n",
       "        44, 44, 14, 56, 29, 30, 58, 73, 45, 73, 44, 64, 56, 29,  5, 36],\n",
       "       [28, 73, 44, 15, 47, 47, 50, 35, 62, 30, 56, 29, 73, 21, 42, 30, 29,\n",
       "        30, 62, 21, 21, 45, 62, 33, 15, 29, 38, 75, 62, 29, 63, 52, 73, 68,\n",
       "        62, 29, 73, 30, 29, 58, 14, 64, 44, 73, 32, 73, 68, 62, 44, 21],\n",
       "       [44, 29, 33, 36, 52, 73, 44, 64, 29, 75, 73, 30, 29, 68,  9, 44, 28,\n",
       "        62, 52, 30, 14, 21, 73,  9, 44, 29, 19, 73, 21, 75, 29, 75, 73, 30,\n",
       "        47,  5, 52,  9, 21, 75, 62, 52, 29, 19, 14, 30, 29, 21, 75, 73],\n",
       "       [29, 73, 21, 29, 73, 30, 56, 29, 30, 73, 52, 31, 50, 29, 30, 14, 73,\n",
       "        33, 29, 21, 75, 62, 29,  9, 45, 33, 29, 58, 14, 44, 56, 29, 64, 62,\n",
       "        21, 21, 73, 44, 64, 29, 36, 63, 56, 29, 14, 44, 33, 47, 68, 52],\n",
       "       [29, 77, 21, 29, 19, 14, 30, 47,  9, 44, 45, 34, 29, 19, 75, 62, 44,\n",
       "        29, 21, 75, 62, 29, 30, 14, 58, 62, 29, 62, 28, 62, 44, 73, 44, 64,\n",
       "        29, 75, 62, 29, 68, 14, 58, 62, 29, 21,  9, 29, 21, 75, 62, 73],\n",
       "       [75, 62, 44, 29, 68,  9, 58, 62, 29, 32,  9, 52, 29, 58, 62, 56, 50,\n",
       "        29, 30, 75, 62, 29, 30, 14, 73, 33, 56, 29, 14, 44, 33, 29, 19, 62,\n",
       "        44, 21, 29,  5, 14, 68, 20, 29, 73, 44, 21,  9, 29, 21, 75, 62],\n",
       "       [55, 29,  5, 36, 21, 29, 44,  9, 19, 29, 30, 75, 62, 29, 19,  9, 36,\n",
       "        45, 33, 29, 52, 62, 14, 33, 73, 45, 34, 29, 75, 14, 28, 62, 29, 30,\n",
       "        14, 68, 52, 73, 32, 73, 68, 62, 33, 56, 29, 44,  9, 21, 29, 58],\n",
       "       [21, 29, 73, 30, 44, 42, 21, 15, 29, 38, 75, 62, 34, 42, 52, 62, 29,\n",
       "        63, 52,  9, 63, 52, 73, 62, 21,  9, 52, 30, 29,  9, 32, 29, 14, 29,\n",
       "        30,  9, 52, 21, 56, 47,  5, 36, 21, 29, 19, 62, 42, 52, 62, 29],\n",
       "       [29, 30, 14, 73, 33, 29, 21,  9, 29, 75, 62, 52, 30, 62, 45, 32, 56,\n",
       "        29, 14, 44, 33, 29,  5, 62, 64, 14, 44, 29, 14, 64, 14, 73, 44, 29,\n",
       "        32, 52,  9, 58, 29, 21, 75, 62, 29,  5, 62, 64, 73, 44, 44, 73]], dtype=int32)"
      ]
     },
     "execution_count": 8,
     "metadata": {},
     "output_type": "execute_result"
    }
   ],
   "source": [
    "train_x[:,:50]"
   ]
  },
  {
   "cell_type": "markdown",
   "metadata": {},
   "source": [
    "I'll write another function to grab batches out of the arrays made by `split_data`. Here each batch will be a sliding window on these arrays with size `batch_size X num_steps`. For example, if we want our network to train on a sequence of 100 characters, `num_steps = 100`. For the next batch, we'll shift this window the next sequence of `num_steps` characters. In this way we can feed batches to the network and the cell states will continue through on each batch."
   ]
  },
  {
   "cell_type": "code",
   "execution_count": 9,
   "metadata": {
    "collapsed": true
   },
   "outputs": [],
   "source": [
    "def get_batch(arrs, num_steps):\n",
    "    batch_size, slice_size = arrs[0].shape\n",
    "    \n",
    "    n_batches = int(slice_size/num_steps)\n",
    "    for b in range(n_batches):\n",
    "        yield [x[:, b*num_steps: (b+1)*num_steps] for x in arrs]"
   ]
  },
  {
   "cell_type": "markdown",
   "metadata": {},
   "source": [
    "## Building the model\n",
    "\n",
    "Below is a function where I build the graph for the network."
   ]
  },
  {
   "cell_type": "code",
   "execution_count": 10,
   "metadata": {
    "collapsed": false,
    "deletable": true,
    "editable": true
   },
   "outputs": [],
   "source": [
    "def build_rnn(num_classes, batch_size=50, num_steps=50, lstm_size=128, num_layers=2,\n",
    "              learning_rate=0.001, grad_clip=5, sampling=False):\n",
    "    \n",
    "    # When we're using this network for sampling later, we'll be passing in\n",
    "    # one character at a time, so providing an option for that\n",
    "    if sampling == True:\n",
    "        batch_size, num_steps = 1, 1\n",
    "\n",
    "    tf.reset_default_graph()\n",
    "    \n",
    "    # Declare placeholders we'll feed into the graph\n",
    "    inputs = tf.placeholder(tf.int32, [batch_size, num_steps], name='inputs')\n",
    "    targets = tf.placeholder(tf.int32, [batch_size, num_steps], name='targets')\n",
    "    \n",
    "    # Keep probability placeholder for drop out layers\n",
    "    keep_prob = tf.placeholder(tf.float32, name='keep_prob')\n",
    "    \n",
    "    # One-hot encoding the input and target characters\n",
    "    x_one_hot = tf.one_hot(inputs, num_classes)\n",
    "    y_one_hot = tf.one_hot(targets, num_classes)\n",
    "\n",
    "    ### Build the RNN layers\n",
    "    # Use a basic LSTM cell\n",
    "    lstm = tf.contrib.rnn.BasicLSTMCell(lstm_size)\n",
    "    \n",
    "    # Add dropout to the cell\n",
    "    drop = tf.contrib.rnn.DropoutWrapper(lstm, output_keep_prob=keep_prob)\n",
    "    \n",
    "    # Stack up multiple LSTM layers, for deep learning\n",
    "    cell = tf.contrib.rnn.MultiRNNCell([drop] * num_layers)\n",
    "    initial_state = cell.zero_state(batch_size, tf.float32)\n",
    "\n",
    "    ### Run the data through the RNN layers\n",
    "    # This makes a list where each element is on step in the sequence\n",
    "    rnn_inputs = [tf.squeeze(i, squeeze_dims=[1]) for i in tf.split(x_one_hot, num_steps, 1)]\n",
    "    \n",
    "    # Run each sequence step through the RNN and collect the outputs\n",
    "    outputs, state = tf.contrib.rnn.static_rnn(cell, rnn_inputs, initial_state=initial_state)\n",
    "    final_state = state\n",
    "    \n",
    "    # Reshape output so it's a bunch of rows, one output row for each step for each batch\n",
    "    seq_output = tf.concat(outputs, axis=1)\n",
    "    output = tf.reshape(seq_output, [-1, lstm_size])\n",
    "    \n",
    "    # Now connect the RNN putputs to a softmax layer\n",
    "    with tf.variable_scope('softmax'):\n",
    "        softmax_w = tf.Variable(tf.truncated_normal((lstm_size, num_classes), stddev=0.1))\n",
    "        softmax_b = tf.Variable(tf.zeros(num_classes))\n",
    "    \n",
    "    # Since output is a bunch of rows of RNN cell outputs, logits will be a bunch\n",
    "    # of rows of logit outputs, one for each step and batch\n",
    "    logits = tf.matmul(output, softmax_w) + softmax_b\n",
    "    \n",
    "    # Use softmax to get the probabilities for predicted characters\n",
    "    preds = tf.nn.softmax(logits, name='predictions')\n",
    "    \n",
    "    # Reshape the targets to match the logits\n",
    "    y_reshaped = tf.reshape(y_one_hot, [-1, num_classes])\n",
    "    loss = tf.nn.softmax_cross_entropy_with_logits(logits=logits, labels=y_reshaped)\n",
    "    cost = tf.reduce_mean(loss)\n",
    "\n",
    "    # Optimizer for training, using gradient clipping to control exploding gradients\n",
    "    tvars = tf.trainable_variables()\n",
    "    grads, _ = tf.clip_by_global_norm(tf.gradients(cost, tvars), grad_clip)\n",
    "    train_op = tf.train.AdamOptimizer(learning_rate)\n",
    "    optimizer = train_op.apply_gradients(zip(grads, tvars))\n",
    "    \n",
    "    # Export the nodes\n",
    "    # NOTE: I'm using a namedtuple here because I think they are cool\n",
    "    export_nodes = ['inputs', 'targets', 'initial_state', 'final_state',\n",
    "                    'keep_prob', 'cost', 'preds', 'optimizer']\n",
    "    Graph = namedtuple('Graph', export_nodes)\n",
    "    local_dict = locals()\n",
    "    graph = Graph(*[local_dict[each] for each in export_nodes])\n",
    "    \n",
    "    return graph"
   ]
  },
  {
   "cell_type": "markdown",
   "metadata": {},
   "source": [
    "## Hyperparameters\n",
    "\n",
    "Here I'm defining the hyperparameters for the network. \n",
    "\n",
    "* `batch_size` - Number of sequences running through the network in one pass.\n",
    "* `num_steps` - Number of characters in the sequence the network is trained on. Larger is better typically, the network will learn more long range dependencies. But it takes longer to train. 100 is typically a good number here.\n",
    "* `lstm_size` - The number of units in the hidden layers.\n",
    "* `num_layers` - Number of hidden LSTM layers to use\n",
    "* `learning_rate` - Learning rate for training\n",
    "* `keep_prob` - The dropout keep probability when training. If you're network is overfitting, try decreasing this.\n",
    "\n",
    "Here's some good advice from Andrej Karpathy on training the network. I'm going to write it in here for your benefit, but also link to [where it originally came from](https://github.com/karpathy/char-rnn#tips-and-tricks).\n",
    "\n",
    "> ## Tips and Tricks\n",
    "\n",
    ">### Monitoring Validation Loss vs. Training Loss\n",
    ">If you're somewhat new to Machine Learning or Neural Networks it can take a bit of expertise to get good models. The most important quantity to keep track of is the difference between your training loss (printed during training) and the validation loss (printed once in a while when the RNN is run on the validation data (by default every 1000 iterations)). In particular:\n",
    "\n",
    "> - If your training loss is much lower than validation loss then this means the network might be **overfitting**. Solutions to this are to decrease your network size, or to increase dropout. For example you could try dropout of 0.5 and so on.\n",
    "> - If your training/validation loss are about equal then your model is **underfitting**. Increase the size of your model (either number of layers or the raw number of neurons per layer)\n",
    "\n",
    "> ### Approximate number of parameters\n",
    "\n",
    "> The two most important parameters that control the model are `lstm_size` and `num_layers`. I would advise that you always use `num_layers` of either 2/3. The `lstm_size` can be adjusted based on how much data you have. The two important quantities to keep track of here are:\n",
    "\n",
    "> - The number of parameters in your model. This is printed when you start training.\n",
    "> - The size of your dataset. 1MB file is approximately 1 million characters.\n",
    "\n",
    ">These two should be about the same order of magnitude. It's a little tricky to tell. Here are some examples:\n",
    "\n",
    "> - I have a 100MB dataset and I'm using the default parameter settings (which currently print 150K parameters). My data size is significantly larger (100 mil >> 0.15 mil), so I expect to heavily underfit. I am thinking I can comfortably afford to make `lstm_size` larger.\n",
    "> - I have a 10MB dataset and running a 10 million parameter model. I'm slightly nervous and I'm carefully monitoring my validation loss. If it's larger than my training loss then I may want to try to increase dropout a bit and see if that heps the validation loss.\n",
    "\n",
    "> ### Best models strategy\n",
    "\n",
    ">The winning strategy to obtaining very good models (if you have the compute time) is to always err on making the network larger (as large as you're willing to wait for it to compute) and then try different dropout values (between 0,1). Whatever model has the best validation performance (the loss, written in the checkpoint filename, low is good) is the one you should use in the end.\n",
    "\n",
    ">It is very common in deep learning to run many different models with many different hyperparameter settings, and in the end take whatever checkpoint gave the best validation performance.\n",
    "\n",
    ">By the way, the size of your training and validation splits are also parameters. Make sure you have a decent amount of data in your validation set or otherwise the validation performance will be noisy and not very informative.\n"
   ]
  },
  {
   "cell_type": "code",
   "execution_count": 11,
   "metadata": {
    "collapsed": false,
    "deletable": true,
    "editable": true
   },
   "outputs": [],
   "source": [
    "batch_size = 100\n",
    "num_steps = 100 \n",
    "lstm_size = 512\n",
    "num_layers = 2\n",
    "learning_rate = 0.001\n",
    "keep_prob = 0.5"
   ]
  },
  {
   "cell_type": "markdown",
   "metadata": {},
   "source": [
    "## Training\n",
    "\n",
    "Time for training which is pretty straightforward. Here I pass in some data, and get an LSTM state back. Then I pass that state back in to the network so the next batch can continue the state from the previous batch. And every so often (set by `save_every_n`) I calculate the validation loss and save a checkpoint.\n",
    "\n",
    "Here I'm saving checkpoints with the format\n",
    "\n",
    "`i{iteration number}_l{# hidden layer units}_v{validation loss}.ckpt`"
   ]
  },
  {
   "cell_type": "code",
   "execution_count": 14,
   "metadata": {
    "collapsed": false,
    "deletable": true,
    "editable": true,
    "scrolled": true
   },
   "outputs": [
    {
     "name": "stdout",
     "output_type": "stream",
     "text": [
      "Epoch 1/20  Iteration 1/3560 Training loss: 4.4182 8.4536 sec/batch\n",
      "Epoch 1/20  Iteration 2/3560 Training loss: 4.3682 6.9022 sec/batch\n",
      "Epoch 1/20  Iteration 3/3560 Training loss: 4.1532 7.4585 sec/batch\n",
      "Epoch 1/20  Iteration 4/3560 Training loss: 4.2222 7.2306 sec/batch\n",
      "Epoch 1/20  Iteration 5/3560 Training loss: 4.1800 6.9573 sec/batch\n",
      "Epoch 1/20  Iteration 6/3560 Training loss: 4.1244 6.9707 sec/batch\n",
      "Epoch 1/20  Iteration 7/3560 Training loss: 4.0559 6.9579 sec/batch\n",
      "Epoch 1/20  Iteration 8/3560 Training loss: 3.9868 6.9795 sec/batch\n",
      "Epoch 1/20  Iteration 9/3560 Training loss: 3.9270 6.9477 sec/batch\n",
      "Epoch 1/20  Iteration 10/3560 Training loss: 3.8796 7.1520 sec/batch\n",
      "Epoch 1/20  Iteration 11/3560 Training loss: 3.8351 7.1790 sec/batch\n",
      "Epoch 1/20  Iteration 12/3560 Training loss: 3.7969 6.9813 sec/batch\n",
      "Epoch 1/20  Iteration 13/3560 Training loss: 3.7638 8.1705 sec/batch\n",
      "Epoch 1/20  Iteration 14/3560 Training loss: 3.7345 7.1127 sec/batch\n",
      "Epoch 1/20  Iteration 15/3560 Training loss: 3.7066 6.9567 sec/batch\n",
      "Epoch 1/20  Iteration 16/3560 Training loss: 3.6817 6.9522 sec/batch\n",
      "Epoch 1/20  Iteration 17/3560 Training loss: 3.6586 6.9689 sec/batch\n",
      "Epoch 1/20  Iteration 18/3560 Training loss: 3.6396 6.9400 sec/batch\n",
      "Epoch 1/20  Iteration 19/3560 Training loss: 3.6211 6.9471 sec/batch\n",
      "Epoch 1/20  Iteration 20/3560 Training loss: 3.6022 6.9293 sec/batch\n",
      "Epoch 1/20  Iteration 21/3560 Training loss: 3.5859 6.9192 sec/batch\n",
      "Epoch 1/20  Iteration 22/3560 Training loss: 3.5709 7.3292 sec/batch\n",
      "Epoch 1/20  Iteration 23/3560 Training loss: 3.5565 6.9684 sec/batch\n",
      "Epoch 1/20  Iteration 24/3560 Training loss: 3.5431 6.9539 sec/batch\n",
      "Epoch 1/20  Iteration 25/3560 Training loss: 3.5301 6.9470 sec/batch\n",
      "Epoch 1/20  Iteration 26/3560 Training loss: 3.5191 6.9453 sec/batch\n",
      "Epoch 1/20  Iteration 27/3560 Training loss: 3.5087 6.9289 sec/batch\n",
      "Epoch 1/20  Iteration 28/3560 Training loss: 3.4982 6.9353 sec/batch\n",
      "Epoch 1/20  Iteration 29/3560 Training loss: 3.4887 7.9086 sec/batch\n",
      "Epoch 1/20  Iteration 30/3560 Training loss: 3.4799 9.9484 sec/batch\n",
      "Epoch 1/20  Iteration 31/3560 Training loss: 3.4723 7.9659 sec/batch\n",
      "Epoch 1/20  Iteration 32/3560 Training loss: 3.4639 7.2691 sec/batch\n",
      "Epoch 1/20  Iteration 33/3560 Training loss: 3.4556 8.0736 sec/batch\n",
      "Epoch 1/20  Iteration 34/3560 Training loss: 3.4482 7.3647 sec/batch\n",
      "Epoch 1/20  Iteration 35/3560 Training loss: 3.4410 6.9253 sec/batch\n",
      "Epoch 1/20  Iteration 36/3560 Training loss: 3.4342 6.9171 sec/batch\n",
      "Epoch 1/20  Iteration 37/3560 Training loss: 3.4271 6.9651 sec/batch\n",
      "Epoch 1/20  Iteration 38/3560 Training loss: 3.4204 7.0740 sec/batch\n",
      "Epoch 1/20  Iteration 39/3560 Training loss: 3.4139 7.0618 sec/batch\n",
      "Epoch 1/20  Iteration 40/3560 Training loss: 3.4077 7.6583 sec/batch\n",
      "Epoch 1/20  Iteration 41/3560 Training loss: 3.4016 7.3622 sec/batch\n",
      "Epoch 1/20  Iteration 42/3560 Training loss: 3.3963 7.5026 sec/batch\n",
      "Epoch 1/20  Iteration 43/3560 Training loss: 3.3910 7.1689 sec/batch\n",
      "Epoch 1/20  Iteration 44/3560 Training loss: 3.3857 7.5714 sec/batch\n",
      "Epoch 1/20  Iteration 45/3560 Training loss: 3.3805 7.3505 sec/batch\n",
      "Epoch 1/20  Iteration 46/3560 Training loss: 3.3759 6.9577 sec/batch\n",
      "Epoch 1/20  Iteration 47/3560 Training loss: 3.3714 6.9077 sec/batch\n",
      "Epoch 1/20  Iteration 48/3560 Training loss: 3.3673 7.1796 sec/batch\n",
      "Epoch 1/20  Iteration 49/3560 Training loss: 3.3632 6.9528 sec/batch\n",
      "Epoch 1/20  Iteration 50/3560 Training loss: 3.3593 6.9432 sec/batch\n",
      "Epoch 1/20  Iteration 51/3560 Training loss: 3.3553 6.9696 sec/batch\n",
      "Epoch 1/20  Iteration 52/3560 Training loss: 3.3513 6.9359 sec/batch\n",
      "Epoch 1/20  Iteration 53/3560 Training loss: 3.3477 6.9594 sec/batch\n",
      "Epoch 1/20  Iteration 54/3560 Training loss: 3.3439 6.9634 sec/batch\n",
      "Epoch 1/20  Iteration 55/3560 Training loss: 3.3404 6.9416 sec/batch\n",
      "Epoch 1/20  Iteration 56/3560 Training loss: 3.3367 7.2240 sec/batch\n",
      "Epoch 1/20  Iteration 57/3560 Training loss: 3.3333 7.2536 sec/batch\n",
      "Epoch 1/20  Iteration 58/3560 Training loss: 3.3301 6.9697 sec/batch\n",
      "Epoch 1/20  Iteration 59/3560 Training loss: 3.3268 6.9267 sec/batch\n",
      "Epoch 1/20  Iteration 60/3560 Training loss: 3.3238 7.0482 sec/batch\n",
      "Epoch 1/20  Iteration 61/3560 Training loss: 3.3207 9.1334 sec/batch\n",
      "Epoch 1/20  Iteration 62/3560 Training loss: 3.3181 10.8389 sec/batch\n",
      "Epoch 1/20  Iteration 63/3560 Training loss: 3.3156 11.0273 sec/batch\n",
      "Epoch 1/20  Iteration 64/3560 Training loss: 3.3125 11.0298 sec/batch\n",
      "Epoch 1/20  Iteration 65/3560 Training loss: 3.3096 10.0716 sec/batch\n",
      "Epoch 1/20  Iteration 66/3560 Training loss: 3.3072 9.7154 sec/batch\n",
      "Epoch 1/20  Iteration 67/3560 Training loss: 3.3047 9.4515 sec/batch\n",
      "Epoch 1/20  Iteration 68/3560 Training loss: 3.3017 7.9370 sec/batch\n",
      "Epoch 1/20  Iteration 69/3560 Training loss: 3.2989 7.5499 sec/batch\n",
      "Epoch 1/20  Iteration 70/3560 Training loss: 3.2966 7.3620 sec/batch\n",
      "Epoch 1/20  Iteration 71/3560 Training loss: 3.2942 7.3696 sec/batch\n",
      "Epoch 1/20  Iteration 72/3560 Training loss: 3.2921 7.4616 sec/batch\n",
      "Epoch 1/20  Iteration 73/3560 Training loss: 3.2898 7.1900 sec/batch\n",
      "Epoch 1/20  Iteration 74/3560 Training loss: 3.2876 7.0603 sec/batch\n",
      "Epoch 1/20  Iteration 75/3560 Training loss: 3.2856 7.1441 sec/batch\n",
      "Epoch 1/20  Iteration 76/3560 Training loss: 3.2837 7.2442 sec/batch\n",
      "Epoch 1/20  Iteration 77/3560 Training loss: 3.2816 7.3185 sec/batch\n",
      "Epoch 1/20  Iteration 78/3560 Training loss: 3.2796 7.0414 sec/batch\n",
      "Epoch 1/20  Iteration 79/3560 Training loss: 3.2775 8.4880 sec/batch\n",
      "Epoch 1/20  Iteration 80/3560 Training loss: 3.2753 7.9181 sec/batch\n",
      "Epoch 1/20  Iteration 81/3560 Training loss: 3.2733 7.4481 sec/batch\n",
      "Epoch 1/20  Iteration 82/3560 Training loss: 3.2714 7.1262 sec/batch\n",
      "Epoch 1/20  Iteration 83/3560 Training loss: 3.2695 7.0500 sec/batch\n",
      "Epoch 1/20  Iteration 84/3560 Training loss: 3.2675 7.0745 sec/batch\n",
      "Epoch 1/20  Iteration 85/3560 Training loss: 3.2654 7.2680 sec/batch\n",
      "Epoch 1/20  Iteration 86/3560 Training loss: 3.2634 7.2523 sec/batch\n",
      "Epoch 1/20  Iteration 87/3560 Training loss: 3.2614 7.0139 sec/batch\n",
      "Epoch 1/20  Iteration 88/3560 Training loss: 3.2594 7.2246 sec/batch\n",
      "Epoch 1/20  Iteration 89/3560 Training loss: 3.2576 7.1367 sec/batch\n",
      "Epoch 1/20  Iteration 90/3560 Training loss: 3.2557 7.0184 sec/batch\n",
      "Epoch 1/20  Iteration 91/3560 Training loss: 3.2541 8.7283 sec/batch\n",
      "Epoch 1/20  Iteration 92/3560 Training loss: 3.2525 8.8682 sec/batch\n",
      "Epoch 1/20  Iteration 93/3560 Training loss: 3.2509 9.3757 sec/batch\n",
      "Epoch 1/20  Iteration 94/3560 Training loss: 3.2493 8.6328 sec/batch\n",
      "Epoch 1/20  Iteration 95/3560 Training loss: 3.2475 7.1690 sec/batch\n",
      "Epoch 1/20  Iteration 96/3560 Training loss: 3.2458 7.6579 sec/batch\n",
      "Epoch 1/20  Iteration 97/3560 Training loss: 3.2443 7.1986 sec/batch\n",
      "Epoch 1/20  Iteration 98/3560 Training loss: 3.2426 7.1550 sec/batch\n",
      "Epoch 1/20  Iteration 99/3560 Training loss: 3.2410 7.2388 sec/batch\n",
      "Epoch 1/20  Iteration 100/3560 Training loss: 3.2412 7.1418 sec/batch\n",
      "Epoch 1/20  Iteration 101/3560 Training loss: 3.2415 7.1142 sec/batch\n",
      "Epoch 1/20  Iteration 102/3560 Training loss: 3.2418 7.1200 sec/batch\n",
      "Epoch 1/20  Iteration 103/3560 Training loss: 3.2417 7.1911 sec/batch\n",
      "Epoch 1/20  Iteration 104/3560 Training loss: 3.2410 8.4887 sec/batch\n",
      "Epoch 1/20  Iteration 105/3560 Training loss: 3.2400 9.7514 sec/batch\n",
      "Epoch 1/20  Iteration 106/3560 Training loss: 3.2384 10.1591 sec/batch\n",
      "Epoch 1/20  Iteration 107/3560 Training loss: 3.2366 7.7231 sec/batch\n",
      "Epoch 1/20  Iteration 108/3560 Training loss: 3.2348 7.1866 sec/batch\n",
      "Epoch 1/20  Iteration 109/3560 Training loss: 3.2333 7.3313 sec/batch\n",
      "Epoch 1/20  Iteration 110/3560 Training loss: 3.2313 8.2337 sec/batch\n",
      "Epoch 1/20  Iteration 111/3560 Training loss: 3.2295 7.0853 sec/batch\n",
      "Epoch 1/20  Iteration 112/3560 Training loss: 3.2278 7.1128 sec/batch\n",
      "Epoch 1/20  Iteration 113/3560 Training loss: 3.2259 7.0409 sec/batch\n",
      "Epoch 1/20  Iteration 114/3560 Training loss: 3.2240 7.0543 sec/batch\n",
      "Epoch 1/20  Iteration 115/3560 Training loss: 3.2221 7.2861 sec/batch\n",
      "Epoch 1/20  Iteration 116/3560 Training loss: 3.2201 7.3262 sec/batch\n",
      "Epoch 1/20  Iteration 117/3560 Training loss: 3.2181 7.0588 sec/batch\n",
      "Epoch 1/20  Iteration 118/3560 Training loss: 3.2163 7.7062 sec/batch\n",
      "Epoch 1/20  Iteration 119/3560 Training loss: 3.2144 7.8751 sec/batch\n",
      "Epoch 1/20  Iteration 120/3560 Training loss: 3.2124 7.7341 sec/batch\n",
      "Epoch 1/20  Iteration 121/3560 Training loss: 3.2105 8.4715 sec/batch\n",
      "Epoch 1/20  Iteration 122/3560 Training loss: 3.2085 8.7291 sec/batch\n",
      "Epoch 1/20  Iteration 123/3560 Training loss: 3.2064 7.4803 sec/batch\n",
      "Epoch 1/20  Iteration 124/3560 Training loss: 3.2047 7.2025 sec/batch\n",
      "Epoch 1/20  Iteration 125/3560 Training loss: 3.2031 7.1095 sec/batch\n",
      "Epoch 1/20  Iteration 126/3560 Training loss: 3.2013 7.1428 sec/batch\n",
      "Epoch 1/20  Iteration 127/3560 Training loss: 3.1994 7.0758 sec/batch\n",
      "Epoch 1/20  Iteration 128/3560 Training loss: 3.1977 7.0341 sec/batch\n",
      "Epoch 1/20  Iteration 129/3560 Training loss: 3.1958 7.2365 sec/batch\n",
      "Epoch 1/20  Iteration 130/3560 Training loss: 3.1941 7.0476 sec/batch\n",
      "Epoch 1/20  Iteration 131/3560 Training loss: 3.1924 7.0325 sec/batch\n",
      "Epoch 1/20  Iteration 132/3560 Training loss: 3.1904 7.0198 sec/batch\n",
      "Epoch 1/20  Iteration 133/3560 Training loss: 3.1884 7.0706 sec/batch\n",
      "Epoch 1/20  Iteration 134/3560 Training loss: 3.1865 7.0723 sec/batch\n",
      "Epoch 1/20  Iteration 135/3560 Training loss: 3.1843 7.0692 sec/batch\n",
      "Epoch 1/20  Iteration 136/3560 Training loss: 3.1822 7.0336 sec/batch\n",
      "Epoch 1/20  Iteration 137/3560 Training loss: 3.1801 7.0338 sec/batch\n",
      "Epoch 1/20  Iteration 138/3560 Training loss: 3.1779 7.1016 sec/batch\n",
      "Epoch 1/20  Iteration 139/3560 Training loss: 3.1758 7.0738 sec/batch\n",
      "Epoch 1/20  Iteration 140/3560 Training loss: 3.1736 7.0966 sec/batch\n",
      "Epoch 1/20  Iteration 141/3560 Training loss: 3.1714 7.0250 sec/batch\n",
      "Epoch 1/20  Iteration 142/3560 Training loss: 3.1690 7.0451 sec/batch\n",
      "Epoch 1/20  Iteration 143/3560 Training loss: 3.1667 7.2340 sec/batch\n",
      "Epoch 1/20  Iteration 144/3560 Training loss: 3.1644 7.0754 sec/batch\n",
      "Epoch 1/20  Iteration 145/3560 Training loss: 3.1620 7.0326 sec/batch\n",
      "Epoch 1/20  Iteration 146/3560 Training loss: 3.1597 7.0856 sec/batch\n",
      "Epoch 1/20  Iteration 147/3560 Training loss: 3.1574 7.0543 sec/batch\n",
      "Epoch 1/20  Iteration 148/3560 Training loss: 3.1552 7.0709 sec/batch\n",
      "Epoch 1/20  Iteration 149/3560 Training loss: 3.1527 7.1004 sec/batch\n",
      "Epoch 1/20  Iteration 150/3560 Training loss: 3.1503 7.0542 sec/batch\n",
      "Epoch 1/20  Iteration 151/3560 Training loss: 3.1481 7.0590 sec/batch\n",
      "Epoch 1/20  Iteration 152/3560 Training loss: 3.1460 7.0788 sec/batch\n",
      "Epoch 1/20  Iteration 153/3560 Training loss: 3.1436 7.0490 sec/batch\n",
      "Epoch 1/20  Iteration 154/3560 Training loss: 3.1413 7.1205 sec/batch\n",
      "Epoch 1/20  Iteration 155/3560 Training loss: 3.1387 7.0876 sec/batch\n",
      "Epoch 1/20  Iteration 156/3560 Training loss: 3.1363 7.0295 sec/batch\n",
      "Epoch 1/20  Iteration 157/3560 Training loss: 3.1337 7.0849 sec/batch\n",
      "Epoch 1/20  Iteration 158/3560 Training loss: 3.1311 7.1478 sec/batch\n",
      "Epoch 1/20  Iteration 159/3560 Training loss: 3.1284 7.1035 sec/batch\n",
      "Epoch 1/20  Iteration 160/3560 Training loss: 3.1260 7.0919 sec/batch\n",
      "Epoch 1/20  Iteration 161/3560 Training loss: 3.1235 7.1234 sec/batch\n",
      "Epoch 1/20  Iteration 162/3560 Training loss: 3.1207 7.1193 sec/batch\n",
      "Epoch 1/20  Iteration 163/3560 Training loss: 3.1179 7.0738 sec/batch\n",
      "Epoch 1/20  Iteration 164/3560 Training loss: 3.1152 7.0841 sec/batch\n",
      "Epoch 1/20  Iteration 165/3560 Training loss: 3.1125 7.1118 sec/batch\n",
      "Epoch 1/20  Iteration 166/3560 Training loss: 3.1098 7.2493 sec/batch\n",
      "Epoch 1/20  Iteration 167/3560 Training loss: 3.1070 7.0865 sec/batch\n",
      "Epoch 1/20  Iteration 168/3560 Training loss: 3.1043 7.0977 sec/batch\n",
      "Epoch 1/20  Iteration 169/3560 Training loss: 3.1015 7.2360 sec/batch\n",
      "Epoch 1/20  Iteration 170/3560 Training loss: 3.0986 7.1641 sec/batch\n",
      "Epoch 1/20  Iteration 171/3560 Training loss: 3.0959 7.1638 sec/batch\n",
      "Epoch 1/20  Iteration 172/3560 Training loss: 3.0933 7.1268 sec/batch\n",
      "Epoch 1/20  Iteration 173/3560 Training loss: 3.0906 7.1534 sec/batch\n",
      "Epoch 1/20  Iteration 174/3560 Training loss: 3.0880 8.0678 sec/batch\n",
      "Epoch 1/20  Iteration 175/3560 Training loss: 3.0852 11.0557 sec/batch\n",
      "Epoch 1/20  Iteration 176/3560 Training loss: 3.0825 9.0755 sec/batch\n",
      "Epoch 1/20  Iteration 177/3560 Training loss: 3.0797 8.6141 sec/batch\n",
      "Epoch 1/20  Iteration 178/3560 Training loss: 3.0768 7.9235 sec/batch\n",
      "Epoch 2/20  Iteration 179/3560 Training loss: 2.6089 7.6468 sec/batch\n",
      "Epoch 2/20  Iteration 180/3560 Training loss: 2.5690 7.8407 sec/batch\n",
      "Epoch 2/20  Iteration 181/3560 Training loss: 2.5584 8.0139 sec/batch\n",
      "Epoch 2/20  Iteration 182/3560 Training loss: 2.5524 7.6150 sec/batch\n",
      "Epoch 2/20  Iteration 183/3560 Training loss: 2.5481 8.8232 sec/batch\n",
      "Epoch 2/20  Iteration 184/3560 Training loss: 2.5436 7.7375 sec/batch\n",
      "Epoch 2/20  Iteration 185/3560 Training loss: 2.5411 8.1364 sec/batch\n",
      "Epoch 2/20  Iteration 186/3560 Training loss: 2.5398 9.1556 sec/batch\n",
      "Epoch 2/20  Iteration 187/3560 Training loss: 2.5384 7.9260 sec/batch\n",
      "Epoch 2/20  Iteration 188/3560 Training loss: 2.5357 7.5685 sec/batch\n",
      "Epoch 2/20  Iteration 189/3560 Training loss: 2.5322 7.3959 sec/batch\n",
      "Epoch 2/20  Iteration 190/3560 Training loss: 2.5300 9.6153 sec/batch\n",
      "Epoch 2/20  Iteration 191/3560 Training loss: 2.5273 8.2325 sec/batch\n",
      "Epoch 2/20  Iteration 192/3560 Training loss: 2.5273 8.0542 sec/batch\n",
      "Epoch 2/20  Iteration 193/3560 Training loss: 2.5250 7.8385 sec/batch\n",
      "Epoch 2/20  Iteration 194/3560 Training loss: 2.5227 7.7015 sec/batch\n",
      "Epoch 2/20  Iteration 195/3560 Training loss: 2.5206 8.0328 sec/batch\n",
      "Epoch 2/20  Iteration 196/3560 Training loss: 2.5203 8.8287 sec/batch\n",
      "Epoch 2/20  Iteration 197/3560 Training loss: 2.5182 7.6961 sec/batch\n",
      "Epoch 2/20  Iteration 198/3560 Training loss: 2.5149 8.6353 sec/batch\n",
      "Epoch 2/20  Iteration 199/3560 Training loss: 2.5121 8.2935 sec/batch\n",
      "Epoch 2/20  Iteration 200/3560 Training loss: 2.5115 7.3259 sec/batch\n",
      "Validation loss: 2.37955 Saving checkpoint!\n",
      "Epoch 2/20  Iteration 201/3560 Training loss: 2.5101 7.9200 sec/batch\n"
     ]
    },
    {
     "ename": "KeyboardInterrupt",
     "evalue": "",
     "output_type": "error",
     "traceback": [
      "\u001b[0;31m---------------------------------------------------------------------------\u001b[0m",
      "\u001b[0;31mKeyboardInterrupt\u001b[0m                         Traceback (most recent call last)",
      "\u001b[0;32m<ipython-input-14-780c3a10820d>\u001b[0m in \u001b[0;36m<module>\u001b[0;34m()\u001b[0m\n\u001b[1;32m     33\u001b[0m                     model.initial_state: new_state}\n\u001b[1;32m     34\u001b[0m             batch_loss, new_state, _ = sess.run([model.cost, model.final_state, model.optimizer], \n\u001b[0;32m---> 35\u001b[0;31m                                                  feed_dict=feed)\n\u001b[0m\u001b[1;32m     36\u001b[0m             \u001b[0mloss\u001b[0m \u001b[0;34m+=\u001b[0m \u001b[0mbatch_loss\u001b[0m\u001b[0;34m\u001b[0m\u001b[0m\n\u001b[1;32m     37\u001b[0m             \u001b[0mend\u001b[0m \u001b[0;34m=\u001b[0m \u001b[0mtime\u001b[0m\u001b[0;34m.\u001b[0m\u001b[0mtime\u001b[0m\u001b[0;34m(\u001b[0m\u001b[0;34m)\u001b[0m\u001b[0;34m\u001b[0m\u001b[0m\n",
      "\u001b[0;32m/Users/ivanmagda/anaconda3/envs/dlnd-tf-lab/lib/python3.5/site-packages/tensorflow/python/client/session.py\u001b[0m in \u001b[0;36mrun\u001b[0;34m(self, fetches, feed_dict, options, run_metadata)\u001b[0m\n\u001b[1;32m    765\u001b[0m     \u001b[0;32mtry\u001b[0m\u001b[0;34m:\u001b[0m\u001b[0;34m\u001b[0m\u001b[0m\n\u001b[1;32m    766\u001b[0m       result = self._run(None, fetches, feed_dict, options_ptr,\n\u001b[0;32m--> 767\u001b[0;31m                          run_metadata_ptr)\n\u001b[0m\u001b[1;32m    768\u001b[0m       \u001b[0;32mif\u001b[0m \u001b[0mrun_metadata\u001b[0m\u001b[0;34m:\u001b[0m\u001b[0;34m\u001b[0m\u001b[0m\n\u001b[1;32m    769\u001b[0m         \u001b[0mproto_data\u001b[0m \u001b[0;34m=\u001b[0m \u001b[0mtf_session\u001b[0m\u001b[0;34m.\u001b[0m\u001b[0mTF_GetBuffer\u001b[0m\u001b[0;34m(\u001b[0m\u001b[0mrun_metadata_ptr\u001b[0m\u001b[0;34m)\u001b[0m\u001b[0;34m\u001b[0m\u001b[0m\n",
      "\u001b[0;32m/Users/ivanmagda/anaconda3/envs/dlnd-tf-lab/lib/python3.5/site-packages/tensorflow/python/client/session.py\u001b[0m in \u001b[0;36m_run\u001b[0;34m(self, handle, fetches, feed_dict, options, run_metadata)\u001b[0m\n\u001b[1;32m    963\u001b[0m     \u001b[0;32mif\u001b[0m \u001b[0mfinal_fetches\u001b[0m \u001b[0;32mor\u001b[0m \u001b[0mfinal_targets\u001b[0m\u001b[0;34m:\u001b[0m\u001b[0;34m\u001b[0m\u001b[0m\n\u001b[1;32m    964\u001b[0m       results = self._do_run(handle, final_targets, final_fetches,\n\u001b[0;32m--> 965\u001b[0;31m                              feed_dict_string, options, run_metadata)\n\u001b[0m\u001b[1;32m    966\u001b[0m     \u001b[0;32melse\u001b[0m\u001b[0;34m:\u001b[0m\u001b[0;34m\u001b[0m\u001b[0m\n\u001b[1;32m    967\u001b[0m       \u001b[0mresults\u001b[0m \u001b[0;34m=\u001b[0m \u001b[0;34m[\u001b[0m\u001b[0;34m]\u001b[0m\u001b[0;34m\u001b[0m\u001b[0m\n",
      "\u001b[0;32m/Users/ivanmagda/anaconda3/envs/dlnd-tf-lab/lib/python3.5/site-packages/tensorflow/python/client/session.py\u001b[0m in \u001b[0;36m_do_run\u001b[0;34m(self, handle, target_list, fetch_list, feed_dict, options, run_metadata)\u001b[0m\n\u001b[1;32m   1013\u001b[0m     \u001b[0;32mif\u001b[0m \u001b[0mhandle\u001b[0m \u001b[0;32mis\u001b[0m \u001b[0;32mNone\u001b[0m\u001b[0;34m:\u001b[0m\u001b[0;34m\u001b[0m\u001b[0m\n\u001b[1;32m   1014\u001b[0m       return self._do_call(_run_fn, self._session, feed_dict, fetch_list,\n\u001b[0;32m-> 1015\u001b[0;31m                            target_list, options, run_metadata)\n\u001b[0m\u001b[1;32m   1016\u001b[0m     \u001b[0;32melse\u001b[0m\u001b[0;34m:\u001b[0m\u001b[0;34m\u001b[0m\u001b[0m\n\u001b[1;32m   1017\u001b[0m       return self._do_call(_prun_fn, self._session, handle, feed_dict,\n",
      "\u001b[0;32m/Users/ivanmagda/anaconda3/envs/dlnd-tf-lab/lib/python3.5/site-packages/tensorflow/python/client/session.py\u001b[0m in \u001b[0;36m_do_call\u001b[0;34m(self, fn, *args)\u001b[0m\n\u001b[1;32m   1020\u001b[0m   \u001b[0;32mdef\u001b[0m \u001b[0m_do_call\u001b[0m\u001b[0;34m(\u001b[0m\u001b[0mself\u001b[0m\u001b[0;34m,\u001b[0m \u001b[0mfn\u001b[0m\u001b[0;34m,\u001b[0m \u001b[0;34m*\u001b[0m\u001b[0margs\u001b[0m\u001b[0;34m)\u001b[0m\u001b[0;34m:\u001b[0m\u001b[0;34m\u001b[0m\u001b[0m\n\u001b[1;32m   1021\u001b[0m     \u001b[0;32mtry\u001b[0m\u001b[0;34m:\u001b[0m\u001b[0;34m\u001b[0m\u001b[0m\n\u001b[0;32m-> 1022\u001b[0;31m       \u001b[0;32mreturn\u001b[0m \u001b[0mfn\u001b[0m\u001b[0;34m(\u001b[0m\u001b[0;34m*\u001b[0m\u001b[0margs\u001b[0m\u001b[0;34m)\u001b[0m\u001b[0;34m\u001b[0m\u001b[0m\n\u001b[0m\u001b[1;32m   1023\u001b[0m     \u001b[0;32mexcept\u001b[0m \u001b[0merrors\u001b[0m\u001b[0;34m.\u001b[0m\u001b[0mOpError\u001b[0m \u001b[0;32mas\u001b[0m \u001b[0me\u001b[0m\u001b[0;34m:\u001b[0m\u001b[0;34m\u001b[0m\u001b[0m\n\u001b[1;32m   1024\u001b[0m       \u001b[0mmessage\u001b[0m \u001b[0;34m=\u001b[0m \u001b[0mcompat\u001b[0m\u001b[0;34m.\u001b[0m\u001b[0mas_text\u001b[0m\u001b[0;34m(\u001b[0m\u001b[0me\u001b[0m\u001b[0;34m.\u001b[0m\u001b[0mmessage\u001b[0m\u001b[0;34m)\u001b[0m\u001b[0;34m\u001b[0m\u001b[0m\n",
      "\u001b[0;32m/Users/ivanmagda/anaconda3/envs/dlnd-tf-lab/lib/python3.5/site-packages/tensorflow/python/client/session.py\u001b[0m in \u001b[0;36m_run_fn\u001b[0;34m(session, feed_dict, fetch_list, target_list, options, run_metadata)\u001b[0m\n\u001b[1;32m   1002\u001b[0m         return tf_session.TF_Run(session, options,\n\u001b[1;32m   1003\u001b[0m                                  \u001b[0mfeed_dict\u001b[0m\u001b[0;34m,\u001b[0m \u001b[0mfetch_list\u001b[0m\u001b[0;34m,\u001b[0m \u001b[0mtarget_list\u001b[0m\u001b[0;34m,\u001b[0m\u001b[0;34m\u001b[0m\u001b[0m\n\u001b[0;32m-> 1004\u001b[0;31m                                  status, run_metadata)\n\u001b[0m\u001b[1;32m   1005\u001b[0m \u001b[0;34m\u001b[0m\u001b[0m\n\u001b[1;32m   1006\u001b[0m     \u001b[0;32mdef\u001b[0m \u001b[0m_prun_fn\u001b[0m\u001b[0;34m(\u001b[0m\u001b[0msession\u001b[0m\u001b[0;34m,\u001b[0m \u001b[0mhandle\u001b[0m\u001b[0;34m,\u001b[0m \u001b[0mfeed_dict\u001b[0m\u001b[0;34m,\u001b[0m \u001b[0mfetch_list\u001b[0m\u001b[0;34m)\u001b[0m\u001b[0;34m:\u001b[0m\u001b[0;34m\u001b[0m\u001b[0m\n",
      "\u001b[0;31mKeyboardInterrupt\u001b[0m: "
     ]
    }
   ],
   "source": [
    "epochs = 20\n",
    "# Save every N iterations\n",
    "save_every_n = 200\n",
    "train_x, train_y, val_x, val_y = split_data(chars, batch_size, num_steps)\n",
    "\n",
    "model = build_rnn(len(vocab), \n",
    "                  batch_size=batch_size,\n",
    "                  num_steps=num_steps,\n",
    "                  learning_rate=learning_rate,\n",
    "                  lstm_size=lstm_size,\n",
    "                  num_layers=num_layers)\n",
    "\n",
    "saver = tf.train.Saver(max_to_keep=100)\n",
    "with tf.Session() as sess:\n",
    "    sess.run(tf.global_variables_initializer())\n",
    "    \n",
    "    # Use the line below to load a checkpoint and resume training\n",
    "    #saver.restore(sess, 'checkpoints/______.ckpt')\n",
    "    \n",
    "    n_batches = int(train_x.shape[1]/num_steps)\n",
    "    iterations = n_batches * epochs\n",
    "    for e in range(epochs):\n",
    "        \n",
    "        # Train network\n",
    "        new_state = sess.run(model.initial_state)\n",
    "        loss = 0\n",
    "        for b, (x, y) in enumerate(get_batch([train_x, train_y], num_steps), 1):\n",
    "            iteration = e*n_batches + b\n",
    "            start = time.time()\n",
    "            feed = {model.inputs: x,\n",
    "                    model.targets: y,\n",
    "                    model.keep_prob: keep_prob,\n",
    "                    model.initial_state: new_state}\n",
    "            batch_loss, new_state, _ = sess.run([model.cost, model.final_state, model.optimizer], \n",
    "                                                 feed_dict=feed)\n",
    "            loss += batch_loss\n",
    "            end = time.time()\n",
    "            print('Epoch {}/{} '.format(e+1, epochs),\n",
    "                  'Iteration {}/{}'.format(iteration, iterations),\n",
    "                  'Training loss: {:.4f}'.format(loss/b),\n",
    "                  '{:.4f} sec/batch'.format((end-start)))\n",
    "        \n",
    "            \n",
    "            if (iteration%save_every_n == 0) or (iteration == iterations):\n",
    "                # Check performance, notice dropout has been set to 1\n",
    "                val_loss = []\n",
    "                new_state = sess.run(model.initial_state)\n",
    "                for x, y in get_batch([val_x, val_y], num_steps):\n",
    "                    feed = {model.inputs: x,\n",
    "                            model.targets: y,\n",
    "                            model.keep_prob: 1.,\n",
    "                            model.initial_state: new_state}\n",
    "                    batch_loss, new_state = sess.run([model.cost, model.final_state], feed_dict=feed)\n",
    "                    val_loss.append(batch_loss)\n",
    "\n",
    "                print('Validation loss:', np.mean(val_loss),\n",
    "                      'Saving checkpoint!')\n",
    "                saver.save(sess, \"checkpoints/i{}_l{}_v{:.3f}.ckpt\".format(iteration, lstm_size, np.mean(val_loss)))"
   ]
  },
  {
   "cell_type": "markdown",
   "metadata": {},
   "source": [
    "#### Saved checkpoints\n",
    "\n",
    "Read up on saving and loading checkpoints here: https://www.tensorflow.org/programmers_guide/variables"
   ]
  },
  {
   "cell_type": "code",
   "execution_count": 15,
   "metadata": {
    "collapsed": false,
    "deletable": true,
    "editable": true
   },
   "outputs": [
    {
     "data": {
      "text/plain": [
       "model_checkpoint_path: \"checkpoints/i200_l512_v2.380.ckpt\"\n",
       "all_model_checkpoint_paths: \"checkpoints/i200_l512_v2.380.ckpt\""
      ]
     },
     "execution_count": 15,
     "metadata": {},
     "output_type": "execute_result"
    }
   ],
   "source": [
    "tf.train.get_checkpoint_state('checkpoints')"
   ]
  },
  {
   "cell_type": "markdown",
   "metadata": {},
   "source": [
    "## Sampling\n",
    "\n",
    "Now that the network is trained, we'll can use it to generate new text. The idea is that we pass in a character, then the network will predict the next character. We can use the new one, to predict the next one. And we keep doing this to generate all new text. I also included some functionality to prime the network with some text by passing in a string and building up a state from that.\n",
    "\n",
    "The network gives us predictions for each character. To reduce noise and make things a little less random, I'm going to only choose a new character from the top N most likely characters.\n",
    "\n"
   ]
  },
  {
   "cell_type": "code",
   "execution_count": 16,
   "metadata": {
    "collapsed": true
   },
   "outputs": [],
   "source": [
    "def pick_top_n(preds, vocab_size, top_n=5):\n",
    "    p = np.squeeze(preds)\n",
    "    p[np.argsort(p)[:-top_n]] = 0\n",
    "    p = p / np.sum(p)\n",
    "    c = np.random.choice(vocab_size, 1, p=p)[0]\n",
    "    return c"
   ]
  },
  {
   "cell_type": "code",
   "execution_count": 17,
   "metadata": {
    "collapsed": true
   },
   "outputs": [],
   "source": [
    "def sample(checkpoint, n_samples, lstm_size, vocab_size, prime=\"The \"):\n",
    "    samples = [c for c in prime]\n",
    "    model = build_rnn(vocab_size, lstm_size=lstm_size, sampling=True)\n",
    "    saver = tf.train.Saver()\n",
    "    with tf.Session() as sess:\n",
    "        saver.restore(sess, checkpoint)\n",
    "        new_state = sess.run(model.initial_state)\n",
    "        for c in prime:\n",
    "            x = np.zeros((1, 1))\n",
    "            x[0,0] = vocab_to_int[c]\n",
    "            feed = {model.inputs: x,\n",
    "                    model.keep_prob: 1.,\n",
    "                    model.initial_state: new_state}\n",
    "            preds, new_state = sess.run([model.preds, model.final_state], \n",
    "                                         feed_dict=feed)\n",
    "\n",
    "        c = pick_top_n(preds, len(vocab))\n",
    "        samples.append(int_to_vocab[c])\n",
    "\n",
    "        for i in range(n_samples):\n",
    "            x[0,0] = c\n",
    "            feed = {model.inputs: x,\n",
    "                    model.keep_prob: 1.,\n",
    "                    model.initial_state: new_state}\n",
    "            preds, new_state = sess.run([model.preds, model.final_state], \n",
    "                                         feed_dict=feed)\n",
    "\n",
    "            c = pick_top_n(preds, len(vocab))\n",
    "            samples.append(int_to_vocab[c])\n",
    "        \n",
    "    return ''.join(samples)"
   ]
  },
  {
   "cell_type": "markdown",
   "metadata": {},
   "source": [
    "Here, pass in the path to a checkpoint and sample from the network."
   ]
  },
  {
   "cell_type": "code",
   "execution_count": 19,
   "metadata": {
    "collapsed": false
   },
   "outputs": [
    {
     "name": "stdout",
     "output_type": "stream",
     "text": [
      "Far,. \n",
      "Ha ade too sito toring. I\" and his ase wotin ta alle hand th onering, the as hand we te hemas anse thin seser intins and wins heris ter tant as homisge time wis hom af ithe the wor ha coud tas oressathe\n",
      "tithe toud ans, wande sint ote at are sas tor tins ofreseran as teas ant ote\n",
      "sins, whet an ther the ta hom and and ar insig ont ther ant tom he tingeres ot here sind. Ans and to he ther and hat hom withes wous thar so hese sar ind as te an the sis hisgesinthe af the he sant tha cire alte ther sos ing oron has, wit thing ood sores are tare won oud wher whith he her wosser sile tarerere teo ha serong and ande an asedint out he her hes wase ans tisto tat his thase ad the tho she he as anting arere his soungese tor\n",
      "tan the aringon hed and, hod at his oud heter ang tor oton ot an sisin torand sot\n",
      "hho her hot hiren sound sous ho se the teon an tha hise tere whore thin with se sime sos he herer oned hh atithe was hand tis ande sind soun the sere he sandedint, as he he the andind hared tho his out timise sase ant atin seting and. I wing an ar ared he the whos har tomee ho tand he ting on her ouse hit hemer af ho ho sind wan ther hassing wirhe hare sitor toriss ho whate ared\n",
      "tere hh mito there his the tith and tham thes he he shares at one hithe woshe he her he thers oos hor andes the he an and ofithas her whan her atond. Ho wor he won se al ingesith ons ond te thith he al ad he sores as hithe whisg\n",
      "ang and tho ton wher ho are ade sores hind hat har has sile win hes she wins at out torte sare hingighe sar tham and oo wer shan who so th amat he hans oo had an so hem as al he serand. \"\n",
      "\n",
      "hhas tous homins arering, herd singe an he and\n",
      "anet att aner and ant the werson har to he therent ho shan too he shesin sase sorinn aser at thim on othe he ase sand the hing hat the sim ond oot he anteren ase saner on ther angas his ound at al an aned whit he sorering af thit he horases, toreng tho coreren on the he ad sartint angisg te sered ther soshinsed whas hes se he sor oung, ha desin t\n"
     ]
    }
   ],
   "source": [
    "checkpoint = \"checkpoints/i200_l512_v2.380.ckpt\"\n",
    "samp = sample(checkpoint, 2000, lstm_size, len(vocab), prime=\"Far\")\n",
    "print(samp)"
   ]
  }
 ],
 "metadata": {
  "kernelspec": {
   "display_name": "Python 3",
   "language": "python",
   "name": "python3"
  },
  "language_info": {
   "codemirror_mode": {
    "name": "ipython",
    "version": 3
   },
   "file_extension": ".py",
   "mimetype": "text/x-python",
   "name": "python",
   "nbconvert_exporter": "python",
   "pygments_lexer": "ipython3",
   "version": "3.5.2"
  }
 },
 "nbformat": 4,
 "nbformat_minor": 2
}
